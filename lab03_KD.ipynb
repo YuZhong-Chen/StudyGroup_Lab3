{
  "cells": [
    {
      "attachments": {},
      "cell_type": "markdown",
      "metadata": {
        "id": "-yv-TS5Dw6gK"
      },
      "source": [
        "# Lab-03 Q3 Knowledge Distillation\n",
        "\n",
        "Please run the code with \"VScode-devcontainer\".\n",
        "\n",
        "It is easier to use Git in local."
      ]
    },
    {
      "cell_type": "markdown",
      "metadata": {},
      "source": [
        "## Import Required Libraries"
      ]
    },
    {
      "cell_type": "code",
      "execution_count": 142,
      "metadata": {
        "id": "nN5h5ZUKw6gO"
      },
      "outputs": [],
      "source": [
        "import torch\n",
        "import torchvision\n",
        "import torchvision.transforms as transforms\n",
        "import torch.optim as optim\n",
        "from torch.utils.data import DataLoader\n",
        "from pathlib import Path\n",
        "import torch.nn as nn\n",
        "import numpy as np\n",
        "from pytorchcv.model_provider import get_model\n",
        "from torchinfo import summary\n",
        "from tqdm import tqdm\n",
        "from PIL import Image\n",
        "import matplotlib.pyplot as plt\n",
        "import seaborn as sns\n",
        "\n",
        "from utils import Cifar10_1"
      ]
    },
    {
      "cell_type": "markdown",
      "metadata": {},
      "source": [
        "## Define Hyper Parameters"
      ]
    },
    {
      "cell_type": "code",
      "execution_count": 143,
      "metadata": {
        "colab": {
          "base_uri": "https://localhost:8080/"
        },
        "id": "fORhoU1hw6gP",
        "outputId": "734e35db-1110-404e-cc09-fa990b54bf57"
      },
      "outputs": [
        {
          "name": "stdout",
          "output_type": "stream",
          "text": [
            "cuda\n"
          ]
        }
      ],
      "source": [
        "DATA_PATH = \"./data\"\n",
        "\n",
        "# change these hyper parameter if needed\n",
        "BATCH_SIZE = 32\n",
        "EPOCH = 10\n",
        "\n",
        "NUM_CLASSES = 10\n",
        "classes = (\n",
        "    \"plane\",\n",
        "    \"car\",\n",
        "    \"bird\",\n",
        "    \"cat\",\n",
        "    \"deer\",\n",
        "    \"dog\",\n",
        "    \"frog\",\n",
        "    \"horse\",\n",
        "    \"ship\",\n",
        "    \"truck\",\n",
        ")\n",
        "\n",
        "# check device (CPU, GPU)\n",
        "device = torch.device(\"cuda\" if torch.cuda.is_available() else \"cpu\")\n",
        "print(device)"
      ]
    },
    {
      "cell_type": "markdown",
      "metadata": {},
      "source": [
        "## Load Dataset & Augmentation\n",
        "Reference: https://pytorch.org/vision/master/transforms.html"
      ]
    },
    {
      "cell_type": "code",
      "execution_count": 144,
      "metadata": {
        "id": "u-O9TQUrw6gP"
      },
      "outputs": [],
      "source": [
        "transform = transforms.Compose(\n",
        "    [\n",
        "        transforms.autoaugment.AutoAugment(),\n",
        "        transforms.ToTensor(),\n",
        "        transforms.Normalize((0.5, 0.5, 0.5), (0.5, 0.5, 0.5)),\n",
        "    ]\n",
        ")"
      ]
    },
    {
      "cell_type": "code",
      "execution_count": 145,
      "metadata": {
        "colab": {
          "base_uri": "https://localhost:8080/"
        },
        "id": "n-3IQxW8w6gQ",
        "outputId": "6e80183a-6aa0-4d71-931c-15db19ffe41e"
      },
      "outputs": [
        {
          "name": "stdout",
          "output_type": "stream",
          "text": [
            "Files already downloaded and verified\n",
            "Files already downloaded and verified\n"
          ]
        }
      ],
      "source": [
        "# load dataset : CIFAR-10 ( Shape : size * 32 * 32 * 3 )\n",
        "\n",
        "trainset = torchvision.datasets.CIFAR10(\n",
        "    root=\"./data\", train=True, download=True, transform=transform\n",
        ")\n",
        "testset_1 = torchvision.datasets.CIFAR10(\n",
        "    root=\"./data\", train=False, download=True, transform=transform\n",
        ")\n",
        "testset_2 = Cifar10_1(root=\"./data/cifar10_1/\", transform=transform)"
      ]
    },
    {
      "cell_type": "code",
      "execution_count": 146,
      "metadata": {
        "id": "kXh6Z-gPw6gS"
      },
      "outputs": [],
      "source": [
        "# dataloader\n",
        "trainloader = DataLoader(trainset, batch_size=BATCH_SIZE, shuffle=True, num_workers=2)\n",
        "testloader_1 = DataLoader(testset_1, batch_size=BATCH_SIZE, shuffle=False, num_workers=2)\n",
        "testloader_2 = DataLoader(testset_2, batch_size=BATCH_SIZE, shuffle=False, num_workers=2)"
      ]
    },
    {
      "cell_type": "markdown",
      "metadata": {},
      "source": [
        "## Model Implementation\n",
        "\n",
        "Reference:  \n",
        "\n",
        "- AlexNet\n",
        "    - https://github.com/pytorch/vision/blob/main/torchvision/models/alexnet.py\n",
        "- NIN\n",
        "    - https://github.com/osmr/imgclsmob/blob/master/pytorch/pytorchcv/models/nin_cifar.py"
      ]
    },
    {
      "cell_type": "code",
      "execution_count": 147,
      "metadata": {},
      "outputs": [],
      "source": [
        "class AlexNet(nn.Module):\n",
        "    def __init__(self, num_classes=10, dropout=0.5):\n",
        "        super().__init__()\n",
        "        self.features = nn.Sequential(\n",
        "            nn.Conv2d(3, 64, kernel_size=3, stride=1, padding=2),\n",
        "            nn.ReLU(inplace=True),\n",
        "            nn.MaxPool2d(kernel_size=3, stride=2),\n",
        "            nn.Conv2d(64, 192, kernel_size=5, padding=2),\n",
        "            nn.ReLU(inplace=True),\n",
        "            nn.MaxPool2d(kernel_size=3, stride=2),\n",
        "            nn.Conv2d(192, 384, kernel_size=3, padding=1),\n",
        "            nn.ReLU(inplace=True),\n",
        "            nn.Conv2d(384, 256, kernel_size=3, padding=1),\n",
        "            nn.ReLU(inplace=True),\n",
        "            nn.Conv2d(256, 256, kernel_size=3, padding=1),\n",
        "            nn.ReLU(inplace=True),\n",
        "            nn.MaxPool2d(kernel_size=3, stride=2),\n",
        "        )\n",
        "        self.avgpool = nn.AdaptiveAvgPool2d((6, 6))\n",
        "        self.classifier = nn.Sequential(\n",
        "            nn.Dropout(p=dropout),\n",
        "            nn.Linear(256 * 6 * 6, 4096),\n",
        "            nn.ReLU(inplace=True),\n",
        "            nn.Dropout(p=dropout),\n",
        "            nn.Linear(4096, 4096),\n",
        "            nn.ReLU(inplace=True),\n",
        "            nn.Linear(4096, num_classes),\n",
        "        )\n",
        "\n",
        "    def forward(self, x: torch.Tensor) -> torch.Tensor:\n",
        "        x = self.features(x)\n",
        "        x = self.avgpool(x)\n",
        "        x = torch.flatten(x, 1)\n",
        "        x = self.classifier(x)\n",
        "        return x"
      ]
    },
    {
      "cell_type": "code",
      "execution_count": 148,
      "metadata": {},
      "outputs": [],
      "source": [
        "# get_model(name=\"nin_cifar10\", pretrained=True)\n",
        "\n",
        "\n",
        "class NINConv(nn.Module):\n",
        "    \"\"\"\n",
        "    NIN specific convolution block.\n",
        "    \"\"\"\n",
        "\n",
        "    def __init__(self, in_channels, out_channels, kernel_size, stride=1, padding=0):\n",
        "        super(NINConv, self).__init__()\n",
        "        self.conv = nn.Conv2d(\n",
        "            in_channels=in_channels,\n",
        "            out_channels=out_channels,\n",
        "            kernel_size=kernel_size,\n",
        "            stride=stride,\n",
        "            padding=padding,\n",
        "            bias=True,\n",
        "        )\n",
        "        self.activ = nn.ReLU(inplace=True)\n",
        "\n",
        "    def forward(self, x):\n",
        "        x = self.conv(x)\n",
        "        x = self.activ(x)\n",
        "        return x\n",
        "\n",
        "\n",
        "class CIFARNIN(nn.Module):\n",
        "    def __init__(self, channels, first_kernel_sizes, in_channels=3, in_size=(32, 32), num_classes=10):\n",
        "        super(CIFARNIN, self).__init__()\n",
        "        self.in_size = in_size\n",
        "        self.num_classes = num_classes\n",
        "\n",
        "        self.features = nn.Sequential()\n",
        "        for i, channels_per_stage in enumerate(channels):\n",
        "            stage = nn.Sequential()\n",
        "            for j, out_channels in enumerate(channels_per_stage):\n",
        "                if (j == 0) and (i != 0):\n",
        "                    if i == 1:\n",
        "                        stage.add_module(\n",
        "                            \"pool{}\".format(i + 1),\n",
        "                            nn.MaxPool2d(kernel_size=3, stride=2, padding=1),\n",
        "                        )\n",
        "                    else:\n",
        "                        stage.add_module(\n",
        "                            \"pool{}\".format(i + 1),\n",
        "                            nn.AvgPool2d(kernel_size=3, stride=2, padding=1),\n",
        "                        )\n",
        "                    stage.add_module(\"dropout{}\".format(i + 1), nn.Dropout(p=0.5))\n",
        "                kernel_size = first_kernel_sizes[i] if j == 0 else 1\n",
        "                padding = (kernel_size - 1) // 2\n",
        "                stage.add_module(\n",
        "                    \"unit{}\".format(j + 1),\n",
        "                    NINConv(\n",
        "                        in_channels=in_channels,\n",
        "                        out_channels=out_channels,\n",
        "                        kernel_size=kernel_size,\n",
        "                        padding=padding,\n",
        "                    ),\n",
        "                )\n",
        "                in_channels = out_channels\n",
        "            self.features.add_module(\"stage{}\".format(i + 1), stage)\n",
        "\n",
        "        self.output = nn.Sequential()\n",
        "        self.output.add_module(\n",
        "            \"final_conv\",\n",
        "            NINConv(in_channels=in_channels, out_channels=num_classes, kernel_size=1),\n",
        "        )\n",
        "        self.output.add_module(\"final_pool\", nn.AvgPool2d(kernel_size=8, stride=1))\n",
        "\n",
        "        self._init_params()\n",
        "\n",
        "    def _init_params(self):\n",
        "        for name, module in self.named_modules():\n",
        "            if isinstance(module, nn.Conv2d):\n",
        "                nn.init.kaiming_uniform_(module.weight)\n",
        "                if module.bias is not None:\n",
        "                    nn.init.constant_(module.bias, 0)\n",
        "\n",
        "    def forward(self, x):\n",
        "        x = self.features(x)\n",
        "        x = self.output(x)\n",
        "        x = x.view(x.size(0), -1)\n",
        "        return x\n",
        "\n",
        "\n",
        "def get_nin_cifar(num_classes, model_name=None, pretrained=False, **kwargs):\n",
        "    channels = [[192, 160, 96], [192, 192, 192], [192, 192]]\n",
        "    first_kernel_sizes = [5, 5, 3]\n",
        "\n",
        "    net = CIFARNIN(\n",
        "        channels=channels,\n",
        "        first_kernel_sizes=first_kernel_sizes,\n",
        "        num_classes=num_classes,\n",
        "        **kwargs\n",
        "    )\n",
        "\n",
        "    return net\n",
        "\n",
        "\n",
        "def nin_cifar10(num_classes=10, **kwargs):\n",
        "    return get_nin_cifar(num_classes=num_classes, model_name=\"nin_cifar10\", **kwargs)"
      ]
    },
    {
      "cell_type": "code",
      "execution_count": 149,
      "metadata": {},
      "outputs": [],
      "source": [
        "class SoftmaxTemperatureLayer(nn.Module):\n",
        "    def __init__(self, temperature=1.0):\n",
        "        super().__init__()\n",
        "        self.temperature = temperature\n",
        "\n",
        "    def forward(self, x):\n",
        "        probabilities = nn.functional.softmax(x / self.temperature, dim=1)\n",
        "        return probabilities"
      ]
    },
    {
      "cell_type": "markdown",
      "metadata": {},
      "source": [
        "## Get model\n",
        "Reference:   \n",
        "https://pytorch.org/tutorials/beginner/saving_loading_models.html  "
      ]
    },
    {
      "cell_type": "code",
      "execution_count": 150,
      "metadata": {
        "id": "bZDX4FR_w6gR"
      },
      "outputs": [
        {
          "name": "stdout",
          "output_type": "stream",
          "text": [
            "Loaded teacher model parameters: model_1.pth\n",
            "Loaded student model parameters: model_student1.pth\n"
          ]
        }
      ],
      "source": [
        "\n",
        "# Load Teacher Model\n",
        "teacher_model_name = \"AlexNet\"\n",
        "teacher_model = AlexNet(NUM_CLASSES).to(device)\n",
        "\n",
        "teacher_model_param_UUID = 1\n",
        "teacher_model.load_state_dict(torch.load(f\"./model/model_{teacher_model_param_UUID}.pth\"))\n",
        "teacher_model.eval()\n",
        "print(f\"Loaded teacher model parameters: model_{teacher_model_param_UUID}.pth\")\n",
        "\n",
        "# Load Student Model\n",
        "student_model_name = \"nin\"\n",
        "student_model = nin_cifar10(pretrained=False)\n",
        "\n",
        "student_model_param_UUID = 1\n",
        "student_model.load_state_dict(torch.load(f\"./model/model_student_{student_model_param_UUID}.pth\"))\n",
        "student_model.eval()\n",
        "student_model = student_model.to(device)\n",
        "print(f\"Loaded student model parameters: model_student{student_model_param_UUID}.pth\")\n",
        "\n",
        "# Choose loss function\n",
        "LOSS_FUNCTION = \"CrossEntropy\""
      ]
    },
    {
      "cell_type": "code",
      "execution_count": 151,
      "metadata": {
        "colab": {
          "base_uri": "https://localhost:8080/"
        },
        "id": "LigRB4biw6gR",
        "outputId": "7ec66e10-07fb-41d6-de7e-93c7f49127a8"
      },
      "outputs": [
        {
          "name": "stdout",
          "output_type": "stream",
          "text": [
            "Teacher model :\n"
          ]
        },
        {
          "data": {
            "text/plain": [
              "==========================================================================================\n",
              "Layer (type:depth-idx)                   Output Shape              Param #\n",
              "==========================================================================================\n",
              "AlexNet                                  [1, 10]                   --\n",
              "├─Sequential: 1-1                        [1, 256, 3, 3]            --\n",
              "│    └─Conv2d: 2-1                       [1, 64, 34, 34]           1,792\n",
              "│    └─ReLU: 2-2                         [1, 64, 34, 34]           --\n",
              "│    └─MaxPool2d: 2-3                    [1, 64, 16, 16]           --\n",
              "│    └─Conv2d: 2-4                       [1, 192, 16, 16]          307,392\n",
              "│    └─ReLU: 2-5                         [1, 192, 16, 16]          --\n",
              "│    └─MaxPool2d: 2-6                    [1, 192, 7, 7]            --\n",
              "│    └─Conv2d: 2-7                       [1, 384, 7, 7]            663,936\n",
              "│    └─ReLU: 2-8                         [1, 384, 7, 7]            --\n",
              "│    └─Conv2d: 2-9                       [1, 256, 7, 7]            884,992\n",
              "│    └─ReLU: 2-10                        [1, 256, 7, 7]            --\n",
              "│    └─Conv2d: 2-11                      [1, 256, 7, 7]            590,080\n",
              "│    └─ReLU: 2-12                        [1, 256, 7, 7]            --\n",
              "│    └─MaxPool2d: 2-13                   [1, 256, 3, 3]            --\n",
              "├─AdaptiveAvgPool2d: 1-2                 [1, 256, 6, 6]            --\n",
              "├─Sequential: 1-3                        [1, 10]                   --\n",
              "│    └─Dropout: 2-14                     [1, 9216]                 --\n",
              "│    └─Linear: 2-15                      [1, 4096]                 37,752,832\n",
              "│    └─ReLU: 2-16                        [1, 4096]                 --\n",
              "│    └─Dropout: 2-17                     [1, 4096]                 --\n",
              "│    └─Linear: 2-18                      [1, 4096]                 16,781,312\n",
              "│    └─ReLU: 2-19                        [1, 4096]                 --\n",
              "│    └─Linear: 2-20                      [1, 10]                   40,970\n",
              "==========================================================================================\n",
              "Total params: 57,023,306\n",
              "Trainable params: 57,023,306\n",
              "Non-trainable params: 0\n",
              "Total mult-adds (M): 240.15\n",
              "==========================================================================================\n",
              "Input size (MB): 0.01\n",
              "Forward/backward pass size (MB): 1.40\n",
              "Params size (MB): 228.09\n",
              "Estimated Total Size (MB): 229.51\n",
              "=========================================================================================="
            ]
          },
          "execution_count": 151,
          "metadata": {},
          "output_type": "execute_result"
        }
      ],
      "source": [
        "print(\"Teacher model :\")\n",
        "summary(teacher_model, input_size=(1, 3, 32, 32), device=device)"
      ]
    },
    {
      "cell_type": "code",
      "execution_count": 152,
      "metadata": {},
      "outputs": [
        {
          "name": "stdout",
          "output_type": "stream",
          "text": [
            "Student model :\n"
          ]
        },
        {
          "data": {
            "text/plain": [
              "==========================================================================================\n",
              "Layer (type:depth-idx)                   Output Shape              Param #\n",
              "==========================================================================================\n",
              "CIFARNIN                                 [1, 10]                   --\n",
              "├─Sequential: 1-1                        [1, 192, 8, 8]            --\n",
              "│    └─Sequential: 2-1                   [1, 96, 32, 32]           --\n",
              "│    │    └─NINConv: 3-1                 [1, 192, 32, 32]          14,592\n",
              "│    │    └─NINConv: 3-2                 [1, 160, 32, 32]          30,880\n",
              "│    │    └─NINConv: 3-3                 [1, 96, 32, 32]           15,456\n",
              "│    └─Sequential: 2-2                   [1, 192, 16, 16]          --\n",
              "│    │    └─MaxPool2d: 3-4               [1, 96, 16, 16]           --\n",
              "│    │    └─Dropout: 3-5                 [1, 96, 16, 16]           --\n",
              "│    │    └─NINConv: 3-6                 [1, 192, 16, 16]          460,992\n",
              "│    │    └─NINConv: 3-7                 [1, 192, 16, 16]          37,056\n",
              "│    │    └─NINConv: 3-8                 [1, 192, 16, 16]          37,056\n",
              "│    └─Sequential: 2-3                   [1, 192, 8, 8]            --\n",
              "│    │    └─AvgPool2d: 3-9               [1, 192, 8, 8]            --\n",
              "│    │    └─Dropout: 3-10                [1, 192, 8, 8]            --\n",
              "│    │    └─NINConv: 3-11                [1, 192, 8, 8]            331,968\n",
              "│    │    └─NINConv: 3-12                [1, 192, 8, 8]            37,056\n",
              "├─Sequential: 1-2                        [1, 10, 1, 1]             --\n",
              "│    └─NINConv: 2-4                      [1, 10, 8, 8]             --\n",
              "│    │    └─Conv2d: 3-13                 [1, 10, 8, 8]             1,930\n",
              "│    │    └─ReLU: 3-14                   [1, 10, 8, 8]             --\n",
              "│    └─AvgPool2d: 2-5                    [1, 10, 1, 1]             --\n",
              "==========================================================================================\n",
              "Total params: 966,986\n",
              "Trainable params: 966,986\n",
              "Non-trainable params: 0\n",
              "Total mult-adds (M): 223.12\n",
              "==========================================================================================\n",
              "Input size (MB): 0.01\n",
              "Forward/backward pass size (MB): 5.05\n",
              "Params size (MB): 3.87\n",
              "Estimated Total Size (MB): 8.93\n",
              "=========================================================================================="
            ]
          },
          "execution_count": 152,
          "metadata": {},
          "output_type": "execute_result"
        }
      ],
      "source": [
        "print(\"Student model :\")\n",
        "summary(student_model, input_size=(1, 3, 32, 32), device=device)"
      ]
    },
    {
      "cell_type": "markdown",
      "metadata": {},
      "source": [
        "## Test single data"
      ]
    },
    {
      "cell_type": "code",
      "execution_count": 159,
      "metadata": {},
      "outputs": [
        {
          "data": {
            "image/png": "[encoded data removed]",
            "text/plain": [
              "<Figure size 640x480 with 2 Axes>"
            ]
          },
          "metadata": {},
          "output_type": "display_data"
        }
      ],
      "source": [
        "def test_single_data(item_idx=0):\n",
        "    figure = plt.figure()\n",
        "\n",
        "    # Get image\n",
        "    item_image = trainset.data[item_idx]\n",
        "    subplot = figure.add_subplot(2, 1, 1)\n",
        "    subplot.axis(\"off\")\n",
        "    subplot.title.set_text(\"Input Image\")  # type: ignore\n",
        "    subplot.imshow(item_image)\n",
        "\n",
        "    # Image Preprocessing\n",
        "    item_image = Image.fromarray(item_image)\n",
        "    item_image = transform(item_image)\n",
        "    item_image = torch.unsqueeze(item_image, dim=0)  # type: ignore\n",
        "\n",
        "    # Get model output\n",
        "    teacher_model.eval()\n",
        "    item_image = item_image.to(device)\n",
        "    output = teacher_model(item_image)\n",
        "\n",
        "    # Apply temperature & Show Output\n",
        "    temperatures = [1, 5, 10, 20, 35]\n",
        "    subplot = figure.add_subplot(2, 1, 2)\n",
        "    for temperature in temperatures:\n",
        "        softmax_temperature = torch.softmax(output / temperature, dim=1)\n",
        "        subplot.plot(classes, softmax_temperature[0].cpu().detach().numpy())\n",
        "    subplot.title.set_text(\"Output\")  # type: ignore\n",
        "    subplot.legend(temperatures, title=\"Temperatures\")\n",
        "    \n",
        "test_single_data(item_idx=10)"
      ]
    },
    {
      "cell_type": "markdown",
      "metadata": {},
      "source": [
        "## Version Control"
      ]
    },
    {
      "cell_type": "code",
      "execution_count": 154,
      "metadata": {
        "id": "KtDslt2rw6gS"
      },
      "outputs": [
        {
          "name": "stdout",
          "output_type": "stream",
          "text": [
            "{'UUID': 1, 'BATCH_SIZE': 32, 'EPOCH': 10, 'MODEL_NAME': 'AlexNet', 'LOSS_FUNCTION': 'CrossEntropy', 'DEVICE': 'cuda'}\n"
          ]
        }
      ],
      "source": [
        "UUID = 1\n",
        "\n",
        "hyperparameter_log = {\n",
        "    \"UUID\": UUID,\n",
        "    \"BATCH_SIZE\": BATCH_SIZE,\n",
        "    \"EPOCH\": EPOCH,\n",
        "    \"MODEL_NAME\": teacher_model_name,\n",
        "    \"LOSS_FUNCTION\": LOSS_FUNCTION,\n",
        "    \"DEVICE\": device.type,\n",
        "}\n",
        "\n",
        "print(hyperparameter_log)"
      ]
    },
    {
      "cell_type": "markdown",
      "metadata": {},
      "source": [
        "## Training Model"
      ]
    },
    {
      "cell_type": "code",
      "execution_count": 155,
      "metadata": {
        "id": "9Vd2JLctw6gS"
      },
      "outputs": [],
      "source": [
        "# define loss function\n",
        "criterion = nn.CrossEntropyLoss()\n",
        "\n",
        "def loss_function(student_output, teacher_output, temperature=5):\n",
        "    student_soft = torch.softmax(student_output / temperature, dim=1)\n",
        "    teacher_soft = torch.softmax(teacher_output / temperature, dim=1)\n",
        "\n",
        "    global criterion\n",
        "    if LOSS_FUNCTION == \"MSE\":\n",
        "        criterion = nn.MSELoss()\n",
        "\n",
        "    loss = criterion(student_soft, teacher_soft)\n",
        "    return loss\n",
        "\n",
        "\n",
        "optimizer = optim.SGD(student_model.parameters(), lr=1e-3, momentum=0.9)"
      ]
    },
    {
      "cell_type": "code",
      "execution_count": 156,
      "metadata": {
        "colab": {
          "base_uri": "https://localhost:8080/"
        },
        "collapsed": true,
        "id": "iM4dqEDaw6gS",
        "outputId": "9a3393fd-c86b-433d-c2d3-c9cbf8f08a24"
      },
      "outputs": [
        {
          "name": "stderr",
          "output_type": "stream",
          "text": [
            "100%|██████████| 1563/1563 [00:26<00:00, 60.09it/s]\n"
          ]
        },
        {
          "name": "stdout",
          "output_type": "stream",
          "text": [
            "epoch: [0], loss: 2.2585, acc: 0.4672\n"
          ]
        },
        {
          "name": "stderr",
          "output_type": "stream",
          "text": [
            "100%|██████████| 1563/1563 [00:26<00:00, 59.77it/s]\n"
          ]
        },
        {
          "name": "stdout",
          "output_type": "stream",
          "text": [
            "epoch: [1], loss: 2.2581, acc: 0.4703\n"
          ]
        },
        {
          "name": "stderr",
          "output_type": "stream",
          "text": [
            "100%|██████████| 1563/1563 [00:26<00:00, 59.59it/s]\n"
          ]
        },
        {
          "name": "stdout",
          "output_type": "stream",
          "text": [
            "epoch: [2], loss: 2.2586, acc: 0.4686\n"
          ]
        },
        {
          "name": "stderr",
          "output_type": "stream",
          "text": [
            "100%|██████████| 1563/1563 [00:26<00:00, 59.42it/s]\n"
          ]
        },
        {
          "name": "stdout",
          "output_type": "stream",
          "text": [
            "epoch: [3], loss: 2.2588, acc: 0.4688\n"
          ]
        },
        {
          "name": "stderr",
          "output_type": "stream",
          "text": [
            "100%|██████████| 1563/1563 [00:26<00:00, 59.63it/s]\n"
          ]
        },
        {
          "name": "stdout",
          "output_type": "stream",
          "text": [
            "epoch: [4], loss: 2.2587, acc: 0.4687\n"
          ]
        },
        {
          "name": "stderr",
          "output_type": "stream",
          "text": [
            "100%|██████████| 1563/1563 [00:26<00:00, 59.81it/s]\n"
          ]
        },
        {
          "name": "stdout",
          "output_type": "stream",
          "text": [
            "epoch: [5], loss: 2.2586, acc: 0.4715\n"
          ]
        },
        {
          "name": "stderr",
          "output_type": "stream",
          "text": [
            "100%|██████████| 1563/1563 [00:26<00:00, 59.65it/s]\n"
          ]
        },
        {
          "name": "stdout",
          "output_type": "stream",
          "text": [
            "epoch: [6], loss: 2.2587, acc: 0.4691\n"
          ]
        },
        {
          "name": "stderr",
          "output_type": "stream",
          "text": [
            "100%|██████████| 1563/1563 [00:26<00:00, 59.50it/s]\n"
          ]
        },
        {
          "name": "stdout",
          "output_type": "stream",
          "text": [
            "epoch: [7], loss: 2.2588, acc: 0.4689\n"
          ]
        },
        {
          "name": "stderr",
          "output_type": "stream",
          "text": [
            "100%|██████████| 1563/1563 [00:26<00:00, 59.38it/s]\n"
          ]
        },
        {
          "name": "stdout",
          "output_type": "stream",
          "text": [
            "epoch: [8], loss: 2.2588, acc: 0.4725\n"
          ]
        },
        {
          "name": "stderr",
          "output_type": "stream",
          "text": [
            "100%|██████████| 1563/1563 [00:26<00:00, 59.54it/s]"
          ]
        },
        {
          "name": "stdout",
          "output_type": "stream",
          "text": [
            "epoch: [9], loss: 2.2587, acc: 0.4702\n"
          ]
        },
        {
          "name": "stderr",
          "output_type": "stream",
          "text": [
            "\n"
          ]
        }
      ],
      "source": [
        "# train\n",
        "def train(e):\n",
        "    teacher_model.train()\n",
        "    num_data = 0\n",
        "    correct = 0\n",
        "    loss_all = 0\n",
        "\n",
        "    for i, (x, y) in enumerate(tqdm(trainloader)):\n",
        "        # get the inputs; data is a list of [inputs, labels]\n",
        "        x, y = x.to(device), y.to(device)\n",
        "\n",
        "        # zero the parameter gradients\n",
        "        optimizer.zero_grad()\n",
        "\n",
        "        # forward + backward + optimize\n",
        "        teacher_outputs = teacher_model(x)\n",
        "        student_outputs = student_model(x)\n",
        "\n",
        "        # compute loss here\n",
        "        loss = loss_function(student_outputs, teacher_outputs)\n",
        "\n",
        "        # L2 Regularization\n",
        "        # Reference: https://androidkt.com/how-to-add-l1-l2-regularization-in-pytorch-loss-function/\n",
        "        l2_lambda = 0.00005\n",
        "        l2_norm = sum(param.pow(2.0).sum() for param in student_model.parameters())\n",
        "        loss += l2_lambda * l2_norm\n",
        "\n",
        "        # back prop\n",
        "        loss.backward()\n",
        "        optimizer.step()\n",
        "\n",
        "        # log\n",
        "        num_data += y.size(0)\n",
        "        loss_all += loss.item()\n",
        "        pred = student_outputs.data.max(1)[1]\n",
        "        correct += pred.eq(y.view(-1)).sum().item()\n",
        "\n",
        "    print(f\"epoch: [{e}], loss: {loss_all/len(trainloader):.4f}, acc: {correct/num_data:.4f}\")\n",
        "\n",
        "\n",
        "# start training\n",
        "for e in range(EPOCH):\n",
        "    train(e)"
      ]
    },
    {
      "cell_type": "code",
      "execution_count": 157,
      "metadata": {
        "colab": {
          "base_uri": "https://localhost:8080/"
        },
        "id": "7tkR2B0ow6gT",
        "outputId": "c89f9258-099e-4290-c1a5-2727d712fff6"
      },
      "outputs": [
        {
          "name": "stdout",
          "output_type": "stream",
          "text": [
            "on testset 1: loss: 9.6126, acc: 0.4584\n",
            "on testset 2: loss: 10.5639, acc: 0.3880\n"
          ]
        }
      ],
      "source": [
        "# evaluate\n",
        "def test(model, test_loader, loss_fun, device):\n",
        "    model.eval()\n",
        "    test_loss = 0\n",
        "    correct = 0\n",
        "    targets = []\n",
        "\n",
        "    for data, target in test_loader:\n",
        "        data = data.to(device)\n",
        "        target = target.to(device).long()\n",
        "\n",
        "        targets.append(target.detach().cpu().numpy())\n",
        "\n",
        "        output = model(data)\n",
        "\n",
        "        test_loss += criterion(output, target).item()\n",
        "        pred = output.data.max(1)[1]\n",
        "\n",
        "        correct += pred.eq(target.view(-1)).sum().item()\n",
        "\n",
        "    return test_loss / len(test_loader), correct / len(test_loader.dataset)\n",
        "\n",
        "\n",
        "loss, acc = test(student_model, testloader_1, loss_function, device)\n",
        "print(f\"on testset 1: loss: {loss:.4f}, acc: {acc:.4f}\")\n",
        "\n",
        "loss, acc = test(student_model, testloader_2, loss_function, device)\n",
        "print(f\"on testset 2: loss: {loss:.4f}, acc: {acc:.4f}\")"
      ]
    },
    {
      "cell_type": "markdown",
      "metadata": {},
      "source": [
        "## Save the model & Results"
      ]
    },
    {
      "cell_type": "code",
      "execution_count": 158,
      "metadata": {},
      "outputs": [],
      "source": [
        "torch.save(student_model.state_dict(), f'./model/model_student_{UUID}.pth')\n",
        "\n",
        "# TODO\n",
        "# Record the results in log file."
      ]
    }
  ],
  "metadata": {
    "accelerator": "GPU",
    "colab": {
      "gpuType": "T4",
      "provenance": []
    },
    "kernelspec": {
      "display_name": "Python 3",
      "name": "python3"
    },
    "language_info": {
      "codemirror_mode": {
        "name": "ipython",
        "version": 3
      },
      "file_extension": ".py",
      "mimetype": "text/x-python",
      "name": "python",
      "nbconvert_exporter": "python",
      "pygments_lexer": "ipython3",
      "version": "3.10.11"
    },
    "orig_nbformat": 4
  },
  "nbformat": 4,
  "nbformat_minor": 0
}
